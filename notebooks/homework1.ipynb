{
 "cells": [
  {
   "cell_type": "markdown",
   "metadata": {},
   "source": [
    "**Jacob Lustig-Yaeger**  \n",
    "**ASTR 555 - Planetary Atmospheres**  \n",
    "**Prof. David Catling**  \n",
    "\n",
    "*Preamble--* The following homework submission is the output file from an iPython Notebook and contains the original code written and run for the calculations in this assignment. Including the code does make this a lengthy document (perhaps unnecessarily lengthy), but I think it's a pretty nifty way to provide my answers and show my work. "
   ]
  },
  {
   "cell_type": "code",
   "execution_count": 56,
   "metadata": {
    "collapsed": true
   },
   "outputs": [],
   "source": [
    "# Import numpy for math\n",
    "import numpy as np\n",
    "\n",
    "# Import units to keep me honest\n",
    "import astropy.units as u"
   ]
  },
  {
   "cell_type": "markdown",
   "metadata": {},
   "source": [
    "## Problem 1:\n",
    ">[16 points total] In the future, planetary astronomers discover an inhabited extrasolar planet, which they call “Houston2”. This planet has a foul and noxious polluted atmosphere, which the media speculates is caused by incessant, unregulated industrial activity. However, all that is really known is that the atmosphere is rich in hydrocarbons, that the temperature at the 200-mbar level in the atmosphere is 273.16 K, and that the surface temperature is 546.32 K. The astronomers all agree that the atmosphere has an essentially adiabatic structure. But there are three camps regarding the atmospheric composition: (i) one group believes that the atmosphere is 50% by volume Xe and 50% methane. (ii) the other group believes that the atmosphere is pure lead tetraethyl Pb(C2H5)4 --- the unwelcome substance found in leaded gasoline (iii) a final group argue for a composition of 50% He and 50% methane.\n",
    "\n",
    ">(a) What is the surface atmospheric pressure on “Houston2” in each model (i) through (iii)? [12 pts]  \n",
    ">(b) Explain how atmospheres (i) and (iii) will differ in their vertical extent? You can assume that Houston2 has the same gravity as the Earth, and a useful thing to do would be to compare heights at the 0.2 bar level. [4 pts]  \n",
    "\n",
    ">[In answering part (a), you will need heat capacity. Go and look at a thermal physics textbook. You’ll find that each degree of freedom of a molecule or atom contributes R/2 to Cv, the molar heat capacity at constant volume. For a molecule of N atoms, there are 3N degrees of freedom. For example, for He there are 3N = 3 degrees of freedom corresponding to 3 translational modes in the x, y and z directions, so that Cv = 3R/2. For CO, for example, there are 3N = 6 degrees of freedom corresponding to 3 translational modes, 1 vibrational mode and 2 rotational modes. But whether certain modes are excited depends on temperature. H2, for example, has Cv = 3R/2 at 40K, Cv ~ 5R/2 at 300K and CV = 6R/2 at 2000K and approaches 7R/2 in the limit (H2 dissociates before it gets there). Each vibrational mode has a kinetic part associated with movement of atoms and a potential part like spring energy in a simple harmonic oscillator, which can constitute two dofs. So the maximum possible Cv = (3 trans. + 2 rots + 2 vibs)R/2 = 7R/2 for a diatomic molecule. At room temperature, vibrational modes tend to be inactive, so Cv = 5R/2 for most diatomic molecules. For the purpose of this homework, ignore these complications and assume that the 3N rule holds. Recall also that molar heat capacity at constant pressure is related to Cv via the equation Cp = Cv + R. (Data: Masses in grams/mole: Xe = 130, C = 12, H = 1, He = 4, Pb = 206)].  \n",
    "\n",
    "Let's start by cataloging the given quantities:  "
   ]
  },
  {
   "cell_type": "code",
   "execution_count": 61,
   "metadata": {
    "collapsed": false
   },
   "outputs": [
    {
     "name": "stdout",
     "output_type": "stream",
     "text": [
      "273.16 K\n",
      "0.2 bar\n",
      "546.32 K\n"
     ]
    }
   ],
   "source": [
    "T200 = 273.16 * u.K; print T200\n",
    "P200 = 200.0 * 1e-3 * u.bar; print P200\n",
    "Tsurf = 546.32 * u.K; print Tsurf"
   ]
  },
  {
   "cell_type": "markdown",
   "metadata": {},
   "source": [
    "Define gram/mol unit"
   ]
  },
  {
   "cell_type": "code",
   "execution_count": 59,
   "metadata": {
    "collapsed": false
   },
   "outputs": [
    {
     "data": {
      "text/latex": [
       "$\\mathrm{\\frac{g}{mol}}$"
      ],
      "text/plain": [
       "Unit(\"g / mol\")"
      ]
     },
     "execution_count": 59,
     "metadata": {},
     "output_type": "execute_result"
    }
   ],
   "source": [
    "amu = u.gram / u.mol; amu"
   ]
  },
  {
   "cell_type": "markdown",
   "metadata": {},
   "source": [
    "The masses of atoms in grams/mol are:"
   ]
  },
  {
   "cell_type": "code",
   "execution_count": null,
   "metadata": {
    "collapsed": true
   },
   "outputs": [],
   "source": [
    "mmw_Xe = 130. * amu\n",
    "mmw_C = 12. * amu\n",
    "mmw_H = 1.0 *amu\n",
    "mmw_He = 4.0 * amu\n",
    "mmw_Pb = 206. * amu"
   ]
  },
  {
   "cell_type": "markdown",
   "metadata": {},
   "source": [
    "The masses of the molecules are:"
   ]
  },
  {
   "cell_type": "code",
   "execution_count": 63,
   "metadata": {
    "collapsed": false
   },
   "outputs": [
    {
     "data": {
      "text/latex": [
       "$16 \\; \\mathrm{\\frac{g}{mol}}$"
      ],
      "text/plain": [
       "<Quantity 16.0 g / mol>"
      ]
     },
     "execution_count": 63,
     "metadata": {},
     "output_type": "execute_result"
    }
   ],
   "source": [
    "# Mass of methane\n",
    "mmw_CH4 = mmw_C + 4*mmw_H; mmw_CH4"
   ]
  },
  {
   "cell_type": "code",
   "execution_count": 64,
   "metadata": {
    "collapsed": false
   },
   "outputs": [
    {
     "data": {
      "text/latex": [
       "$322 \\; \\mathrm{\\frac{g}{mol}}$"
      ],
      "text/plain": [
       "<Quantity 322.0 g / mol>"
      ]
     },
     "execution_count": 64,
     "metadata": {},
     "output_type": "execute_result"
    }
   ],
   "source": [
    "# Mass of Lead Tetraethyl\n",
    "mmw_PbTet = mmw_Pb + 4*(2*mmw_C+5*mmw_H); mmw_PbTet"
   ]
  },
  {
   "cell_type": "markdown",
   "metadata": {},
   "source": [
    "Now each case has a different composition, given in terms of volume mixing ratio."
   ]
  },
  {
   "cell_type": "code",
   "execution_count": 66,
   "metadata": {
    "collapsed": true
   },
   "outputs": [],
   "source": [
    "# Cases\n",
    "#(i)\n",
    "fXe = 0.5\n",
    "fCH4 = 0.5\n",
    "#(ii)\n",
    "fPbTet = 1.0\n",
    "#(iii)\n",
    "fHe = 0.5\n",
    "fCH4 = 0.5"
   ]
  },
  {
   "cell_type": "markdown",
   "metadata": {},
   "source": [
    "### Part a)  \n",
    "From the notes,  \n",
    "$$ T = T_{ref} \\left ( \\frac{P}{P_{ref}} \\right ) ^{\\frac{\\gamma - 1}{\\gamma}} $$  \n",
    "where $\\gamma$ is the ratio of specific heats ($\\gamma = c_p/c_v$).\n",
    "Solving for P,  \n",
    "$$ P = P_{ref} \\left ( \\frac{T}{T_{ref}} \\right ) ^{\\frac{\\gamma}{\\gamma - 1}} $$\n",
    "which can be used to find the surface pressure using the P,T known at 200 mbar and the surface temperature.\n",
    "We can use kinetic theory to relate $\\gamma$ to the number of degrees of freedom available to a gas particle via the following relation,  \n",
    "$$ \\gamma = 1 + \\frac{2}{N_{dof}} .$$ \n",
    "Finally, using the simplifying assumption that $N_{dof} = 3N$, where $N$ is the number of atoms, we get the following relation:  \n",
    "$$ P = P_{ref} \\left ( \\frac{T}{T_{ref}} \\right ) ^{1+\\frac{N_{dof}}{2}} $$  \n",
    "\n",
    "Let's write the above equation as a function so we can call it multiple times."
   ]
  },
  {
   "cell_type": "code",
   "execution_count": 65,
   "metadata": {
    "collapsed": true
   },
   "outputs": [],
   "source": [
    "def P1(T, Pr, Tr, Ndof):\n",
    "    \"\"\"\n",
    "    Calculate the pressure assuming a known reference temperature and pressure, a deeper temperature, \n",
    "    and assuming a dry adiabat.\n",
    "    \n",
    "    Parameters\n",
    "    ----------\n",
    "    T : Temperature at which to determine the pressure\n",
    "    Pr : Reference pressure\n",
    "    Tr : Reference temperature\n",
    "    Ndof : Gas number of degrees of freedom\n",
    "    \n",
    "    Returns\n",
    "    -------\n",
    "    P1 : Pressure at given T\n",
    "    \"\"\"\n",
    "    return Pr * (T / Tr)**(1.+Ndof/2.)"
   ]
  },
  {
   "cell_type": "markdown",
   "metadata": {},
   "source": [
    "We will determine the number of degrees of freedom in a mixed gas by weighting the individual gas constituents by their respective volume mixing ratios. "
   ]
  },
  {
   "cell_type": "code",
   "execution_count": 67,
   "metadata": {
    "collapsed": false
   },
   "outputs": [
    {
     "name": "stdout",
     "output_type": "stream",
     "text": [
      "N_dof: 9.0 87.0 9.0\n",
      "gamma: 1.22222222222 1.02298850575 1.22222222222\n",
      "exponent: 5.5 44.5 5.5\n"
     ]
    }
   ],
   "source": [
    "# Set the number of atoms for each gas\n",
    "N_Xe = 1.\n",
    "N_CH4 = 5.\n",
    "N_PbT = 29.\n",
    "N_He = 1.0\n",
    "\n",
    "# Compute the Number of degrees of freedom for each case\n",
    "Ndof1 = 3. * (fXe*N_Xe + fCH4*N_CH4)\n",
    "Ndof2 = 3. * (fPbTet*N_PbT)\n",
    "Ndof3 = 3. * (fHe*N_He + fCH4*N_CH4)\n",
    "\n",
    "# print intermediate values for checking math\n",
    "print \"N_dof:\", Ndof1, Ndof2, Ndof3\n",
    "print \"gamma:\", (1.+2./Ndof1), (1.+2./Ndof2), (1.+2./Ndof3)\n",
    "print \"exponent:\", 1  + Ndof1/2., 1  + Ndof2/2., 1  + Ndof3/2."
   ]
  },
  {
   "cell_type": "markdown",
   "metadata": {},
   "source": [
    "Given a different number of degrees of freedom for each possible atmosphere, we calculate the surface pressures given below:"
   ]
  },
  {
   "cell_type": "code",
   "execution_count": 7,
   "metadata": {
    "collapsed": false
   },
   "outputs": [
    {
     "name": "stdout",
     "output_type": "stream",
     "text": [
      "Surface pressure for case (i) is 9.05096679919 bar\n"
     ]
    }
   ],
   "source": [
    "Pi = P1(Tsurf, P200, T200, Ndof1)\n",
    "print \"Surface pressure for case (i) is\", Pi"
   ]
  },
  {
   "cell_type": "code",
   "execution_count": 8,
   "metadata": {
    "collapsed": false
   },
   "outputs": [
    {
     "name": "stdout",
     "output_type": "stream",
     "text": [
      "Surface pressure for case (ii) is 4.97582161916e+12 bar\n"
     ]
    }
   ],
   "source": [
    "Pii = P1(Tsurf, P200, T200, Ndof2)\n",
    "print \"Surface pressure for case (ii) is\", Pii"
   ]
  },
  {
   "cell_type": "code",
   "execution_count": 9,
   "metadata": {
    "collapsed": false
   },
   "outputs": [
    {
     "name": "stdout",
     "output_type": "stream",
     "text": [
      "Surface pressure for case (iii) is 9.05096679919 bar\n"
     ]
    }
   ],
   "source": [
    "Piii = P1(Tsurf, P200, T200, Ndof3)\n",
    "print \"Surface pressure for case (iii) is\", Piii"
   ]
  },
  {
   "cell_type": "markdown",
   "metadata": {},
   "source": [
    "### Part b)  \n",
    "\n",
    "The atmospheric pressure scale height is  \n",
    "$$ H = \\frac{k \\bar{T}}{\\bar{m} g } $$"
   ]
  },
  {
   "cell_type": "markdown",
   "metadata": {},
   "source": [
    "Define the Boltzmann Constant,"
   ]
  },
  {
   "cell_type": "code",
   "execution_count": 10,
   "metadata": {
    "collapsed": false
   },
   "outputs": [
    {
     "data": {
      "text/latex": [
       "$1.3806485 \\times 10^{-20} \\; \\mathrm{\\frac{m^{2}\\,g}{K\\,s^{2}}}$"
      ],
      "text/plain": [
       "<Quantity 1.3806485199999997e-20 g m2 / (K s2)>"
      ]
     },
     "execution_count": 10,
     "metadata": {},
     "output_type": "execute_result"
    }
   ],
   "source": [
    "k = 1.38064852e-23 * (u.m**2 *u.kg * u.second**-2 * u.K**-1 * u.kg.in_units(u.g) * u.g/u.kg); k"
   ]
  },
  {
   "cell_type": "markdown",
   "metadata": {},
   "source": [
    "and the pressure scale height."
   ]
  },
  {
   "cell_type": "code",
   "execution_count": 11,
   "metadata": {
    "collapsed": true
   },
   "outputs": [],
   "source": [
    "def pressure_scale_height(T, m, g, k=k):\n",
    "    \"\"\"\n",
    "    \"\"\"\n",
    "    return (k * T) / (m * g)"
   ]
  },
  {
   "cell_type": "markdown",
   "metadata": {},
   "source": [
    "Assuming the gravity is the same as that on Earth"
   ]
  },
  {
   "cell_type": "code",
   "execution_count": 12,
   "metadata": {
    "collapsed": false
   },
   "outputs": [
    {
     "data": {
      "text/latex": [
       "$9.8 \\; \\mathrm{\\frac{m}{s^{2}}}$"
      ],
      "text/plain": [
       "<Quantity 9.8 m / s2>"
      ]
     },
     "execution_count": 12,
     "metadata": {},
     "output_type": "execute_result"
    }
   ],
   "source": [
    "g = 9.8 * u.m / u.s**2; g"
   ]
  },
  {
   "cell_type": "markdown",
   "metadata": {},
   "source": [
    "Set Avagadro's Number:"
   ]
  },
  {
   "cell_type": "code",
   "execution_count": 13,
   "metadata": {
    "collapsed": false
   },
   "outputs": [
    {
     "data": {
      "text/latex": [
       "$6.0221409 \\times 10^{23} \\; \\mathrm{\\frac{1}{mol}}$"
      ],
      "text/plain": [
       "<Quantity 6.022140857e+23 1 / mol>"
      ]
     },
     "execution_count": 13,
     "metadata": {},
     "output_type": "execute_result"
    }
   ],
   "source": [
    "NA = 6.022140857e23 * u.mol**-1; NA"
   ]
  },
  {
   "cell_type": "markdown",
   "metadata": {},
   "source": [
    "Calculate the mean molecular weight for each possible case:"
   ]
  },
  {
   "cell_type": "code",
   "execution_count": 14,
   "metadata": {
    "collapsed": false
   },
   "outputs": [
    {
     "data": {
      "text/latex": [
       "$73 \\; \\mathrm{\\frac{g}{mol}}$"
      ],
      "text/plain": [
       "<Quantity 73.0 g / mol>"
      ]
     },
     "execution_count": 14,
     "metadata": {},
     "output_type": "execute_result"
    }
   ],
   "source": [
    "mu1 = (fXe * mmw_Xe + fCH4 * mmw_CH4); mu1"
   ]
  },
  {
   "cell_type": "code",
   "execution_count": 15,
   "metadata": {
    "collapsed": false
   },
   "outputs": [
    {
     "data": {
      "text/latex": [
       "$322 \\; \\mathrm{\\frac{g}{mol}}$"
      ],
      "text/plain": [
       "<Quantity 322.0 g / mol>"
      ]
     },
     "execution_count": 15,
     "metadata": {},
     "output_type": "execute_result"
    }
   ],
   "source": [
    "mu2 = (fPbTet * mmw_PbTet); mu2"
   ]
  },
  {
   "cell_type": "code",
   "execution_count": 16,
   "metadata": {
    "collapsed": false
   },
   "outputs": [
    {
     "data": {
      "text/latex": [
       "$10 \\; \\mathrm{\\frac{g}{mol}}$"
      ],
      "text/plain": [
       "<Quantity 10.0 g / mol>"
      ]
     },
     "execution_count": 16,
     "metadata": {},
     "output_type": "execute_result"
    }
   ],
   "source": [
    "mu3 = (fHe * mmw_He + fCH4 * mmw_CH4); mu3"
   ]
  },
  {
   "cell_type": "markdown",
   "metadata": {},
   "source": [
    "Calculate the mean atmospheric mass for each possible case:"
   ]
  },
  {
   "cell_type": "code",
   "execution_count": 17,
   "metadata": {
    "collapsed": false
   },
   "outputs": [
    {
     "data": {
      "text/latex": [
       "$1.2121935 \\times 10^{-22} \\; \\mathrm{g}$"
      ],
      "text/plain": [
       "<Quantity 1.2121934995118297e-22 g>"
      ]
     },
     "execution_count": 17,
     "metadata": {},
     "output_type": "execute_result"
    }
   ],
   "source": [
    "m1 = mu1 / NA; m1"
   ]
  },
  {
   "cell_type": "code",
   "execution_count": 18,
   "metadata": {
    "collapsed": false
   },
   "outputs": [
    {
     "data": {
      "text/latex": [
       "$5.3469357 \\times 10^{-22} \\; \\mathrm{g}$"
      ],
      "text/plain": [
       "<Quantity 5.346935710175468e-22 g>"
      ]
     },
     "execution_count": 18,
     "metadata": {},
     "output_type": "execute_result"
    }
   ],
   "source": [
    "m2 = mu2 / NA; m2"
   ]
  },
  {
   "cell_type": "code",
   "execution_count": 19,
   "metadata": {
    "collapsed": false
   },
   "outputs": [
    {
     "data": {
      "text/latex": [
       "$1.660539 \\times 10^{-23} \\; \\mathrm{g}$"
      ],
      "text/plain": [
       "<Quantity 1.660539040427164e-23 g>"
      ]
     },
     "execution_count": 19,
     "metadata": {},
     "output_type": "execute_result"
    }
   ],
   "source": [
    "m3 = mu3 / NA; m3"
   ]
  },
  {
   "cell_type": "markdown",
   "metadata": {},
   "source": [
    "We'll calculate the pressure scale height at the 200 mbar level. The pressure scale height is only valid in isothermal regions of an atmosphere. However, 200 mbar is probably close to the tropopause (particularly because the temperature here is at zero degrees celsius perhaps hinting that water will freeze out around this level, contributing latent heat and cold trapping the water below). Using the temperature at this level to calculate the pressure scale height will give a reasonable approximation of the extent of the atmosphere *above* 200 mbar. "
   ]
  },
  {
   "cell_type": "code",
   "execution_count": 20,
   "metadata": {
    "collapsed": false
   },
   "outputs": [
    {
     "data": {
      "text/latex": [
       "$3.1746965 \\; \\mathrm{km}$"
      ],
      "text/plain": [
       "<Quantity 3.17469647155898 km>"
      ]
     },
     "execution_count": 20,
     "metadata": {},
     "output_type": "execute_result"
    }
   ],
   "source": [
    "H1 = pressure_scale_height(T200, m1, g) * u.m.in_units(u.km) * u.km/u.m; H1"
   ]
  },
  {
   "cell_type": "code",
   "execution_count": 21,
   "metadata": {
    "collapsed": false
   },
   "outputs": [
    {
     "data": {
      "text/latex": [
       "$0.71972932 \\; \\mathrm{km}$"
      ],
      "text/plain": [
       "<Quantity 0.7197293242975326 km>"
      ]
     },
     "execution_count": 21,
     "metadata": {},
     "output_type": "execute_result"
    }
   ],
   "source": [
    "H2 = pressure_scale_height(T200, m2, g) * u.m.in_units(u.km) * u.km/u.m; H2"
   ]
  },
  {
   "cell_type": "code",
   "execution_count": 22,
   "metadata": {
    "collapsed": false
   },
   "outputs": [
    {
     "data": {
      "text/latex": [
       "$23.175284 \\; \\mathrm{km}$"
      ],
      "text/plain": [
       "<Quantity 23.175284242380553 km>"
      ]
     },
     "execution_count": 22,
     "metadata": {},
     "output_type": "execute_result"
    }
   ],
   "source": [
    "H3 = pressure_scale_height(T200, m3, g) * u.m.in_units(u.km) * u.km/u.m; H3"
   ]
  },
  {
   "cell_type": "markdown",
   "metadata": {},
   "source": [
    "The pressure scale height gives us an estimate of the atmospheric extent. Since we know the temperature at 200 mbar and the gravity, then the scale height for the 3 possible cases is determined soley by the atmospheric mass. The pure lead tetraethyl atmosphere, which has a mean molecular weight of 322 g/mol, is the heaviest and therefore has the smallest atmospheric extent with a scale height of 0.72 km. On the other hand, the 50% Helium, 50% methane atmosphere has the lowest mass ($\\mu = 10$ g/mol) and therefore the largest atmospheric extent ($H = 23.17$ km). The 50% Xe, 50% methane atmosphere has an intermediate extent ($H = 3.17$ km)."
   ]
  },
  {
   "cell_type": "markdown",
   "metadata": {},
   "source": [
    "## Problem 2:  \n",
    ">[4 points total] A spherical hot-air balloon is designed to float at the ~1 bar, 60 K level in the atmosphere of Neptune. Scientists hope to track the winds in the atmosphere of Neptune by following the motion of the balloon. The balloon is also instrumented with atmospheric sensors. The weight of the balloon and payload is 30 kg. What balloon volume and radius is required for a “hot air” temperature of 100 K?\n",
    "(Data: mean molar mass of Neptune atmosphere = 2.6 g/mol). [4 pts]  \n",
    "\n",
    "Here's what we know:"
   ]
  },
  {
   "cell_type": "code",
   "execution_count": 23,
   "metadata": {
    "collapsed": false
   },
   "outputs": [
    {
     "data": {
      "text/latex": [
       "$1 \\; \\mathrm{bar}$"
      ],
      "text/plain": [
       "<Quantity 1.0 bar>"
      ]
     },
     "execution_count": 23,
     "metadata": {},
     "output_type": "execute_result"
    }
   ],
   "source": [
    "P2 = 1.0 * u.bar; P2"
   ]
  },
  {
   "cell_type": "code",
   "execution_count": 24,
   "metadata": {
    "collapsed": false
   },
   "outputs": [
    {
     "data": {
      "text/latex": [
       "$60 \\; \\mathrm{K}$"
      ],
      "text/plain": [
       "<Quantity 60.0 K>"
      ]
     },
     "execution_count": 24,
     "metadata": {},
     "output_type": "execute_result"
    }
   ],
   "source": [
    "T2 = 60. * u.K; T2"
   ]
  },
  {
   "cell_type": "code",
   "execution_count": 25,
   "metadata": {
    "collapsed": false
   },
   "outputs": [
    {
     "data": {
      "text/latex": [
       "$30 \\; \\mathrm{kg}$"
      ],
      "text/plain": [
       "<Quantity 30.0 kg>"
      ]
     },
     "execution_count": 25,
     "metadata": {},
     "output_type": "execute_result"
    }
   ],
   "source": [
    "m_payload = 30.0 * u.kg; m_payload "
   ]
  },
  {
   "cell_type": "code",
   "execution_count": 26,
   "metadata": {
    "collapsed": false
   },
   "outputs": [
    {
     "data": {
      "text/latex": [
       "$100 \\; \\mathrm{K}$"
      ],
      "text/plain": [
       "<Quantity 100.0 K>"
      ]
     },
     "execution_count": 26,
     "metadata": {},
     "output_type": "execute_result"
    }
   ],
   "source": [
    "T_hot_air = 100.0 * u.K; T_hot_air"
   ]
  },
  {
   "cell_type": "code",
   "execution_count": 27,
   "metadata": {
    "collapsed": false
   },
   "outputs": [
    {
     "data": {
      "text/latex": [
       "$2.6 \\; \\mathrm{\\frac{g}{mol}}$"
      ],
      "text/plain": [
       "<Quantity 2.6 g / mol>"
      ]
     },
     "execution_count": 27,
     "metadata": {},
     "output_type": "execute_result"
    }
   ],
   "source": [
    "mu_Nep = 2.6 * u.g/u.mol; mu_Nep"
   ]
  },
  {
   "cell_type": "markdown",
   "metadata": {},
   "source": [
    "An object inbedded in another medium will float due to buoyancy if the downward weight ($mg$) of the object is equal to the weight of the displaced medium. This is Archimedes' principle. In other words, the net force on the payload must be zero. From the notes we can write the buoyancy force as,  \n",
    "$$ F_{buoy} = -g (\\rho_{in} - \\rho_{out}) V $$  \n",
    "which must balance the downward force of the balloon payload,  \n",
    "$$ F_{pay} = m_p g .$$  \n",
    "Setting $F_{buoy} = F_{pay}$ and solving for the balloon volume, we get  \n",
    "$$V = \\frac{m_p}{\\rho_{out} - \\rho_{in}}$$\n",
    "\n",
    "Ultimately it is the temperature difference between the gas inside the balloon versus outside that drives the density difference that provides the buoyant force. We'll calculate the density of an ideal gas:\n",
    "$$ \\rho = \\frac{\\bar{m} P }{k T} $$  \n",
    "Inside the balloon the density is:"
   ]
  },
  {
   "cell_type": "code",
   "execution_count": 28,
   "metadata": {
    "collapsed": false
   },
   "outputs": [
    {
     "data": {
      "text/latex": [
       "$0.31270823 \\; \\mathrm{\\frac{kg}{m^{3}}}$"
      ],
      "text/plain": [
       "<Quantity 0.3127082267911769 kg / m3>"
      ]
     },
     "execution_count": 28,
     "metadata": {},
     "output_type": "execute_result"
    }
   ],
   "source": [
    "rho_in = ((mu_Nep / NA) * P2.decompose()) / (k * T_hot_air); rho_in "
   ]
  },
  {
   "cell_type": "markdown",
   "metadata": {},
   "source": [
    "and outside the balloon the density is:"
   ]
  },
  {
   "cell_type": "code",
   "execution_count": 29,
   "metadata": {
    "collapsed": false
   },
   "outputs": [
    {
     "data": {
      "text/latex": [
       "$0.52118038 \\; \\mathrm{\\frac{kg}{m^{3}}}$"
      ],
      "text/plain": [
       "<Quantity 0.5211803779852948 kg / m3>"
      ]
     },
     "execution_count": 29,
     "metadata": {},
     "output_type": "execute_result"
    }
   ],
   "source": [
    "rho_out = ((mu_Nep / NA) * P2.decompose()) / (k * T2); rho_out"
   ]
  },
  {
   "cell_type": "markdown",
   "metadata": {},
   "source": [
    "Now we'll solve for the balloon volume, "
   ]
  },
  {
   "cell_type": "code",
   "execution_count": 30,
   "metadata": {
    "collapsed": false
   },
   "outputs": [
    {
     "data": {
      "text/latex": [
       "$143.90411 \\; \\mathrm{m^{3}}$"
      ],
      "text/plain": [
       "<Quantity 143.90411298661004 m3>"
      ]
     },
     "execution_count": 30,
     "metadata": {},
     "output_type": "execute_result"
    }
   ],
   "source": [
    "V = m_payload / (rho_out - rho_in); V"
   ]
  },
  {
   "cell_type": "markdown",
   "metadata": {},
   "source": [
    "And, assuming the balloon is spherical we can trivially find the radius: \n",
    "$$ V = \\frac{4}{3} \\pi R^3 \\rightarrow R = \\left ( \\frac{3V}{4 \\pi} \\right ) ^{1/3}$$"
   ]
  },
  {
   "cell_type": "code",
   "execution_count": 31,
   "metadata": {
    "collapsed": false
   },
   "outputs": [
    {
     "data": {
      "text/latex": [
       "$3.2508345 \\; \\mathrm{m}$"
      ],
      "text/plain": [
       "<Quantity 3.2508345429120604 m>"
      ]
     },
     "execution_count": 31,
     "metadata": {},
     "output_type": "execute_result"
    }
   ],
   "source": [
    "R = ((3. * V)/(4. * np.pi))**(1./3.); R"
   ]
  },
  {
   "cell_type": "markdown",
   "metadata": {
    "collapsed": true
   },
   "source": [
    "A 3.25-m radius balloon seems reasonably sized. "
   ]
  },
  {
   "cell_type": "markdown",
   "metadata": {},
   "source": [
    "## Problem 3:  \n",
    "\n",
    ">[6 points total] In deriving the hydrostatic equation for an isothermal planetary atmosphere, we assumed that the scale height $H$ was much smaller than the radius of the planet; that is, that $g$ can be considered a constant throughout the atmosphere, as a reasonable approximation. Suppose early Titan had much hydrogen in its atmosphere. If so, our approximation is no longer valid because $g = (GM)/r^2$ at planetocentric distance $r$.  \n",
    "\n",
    ">(i) Re-derive the hydrostatic equation for this case, taking into account the variation of g with planetocentric distance. I suggest you start with $dP / P = −(\\bar{m}g / R\\bar{T} )dr$ .\n",
    "[3 pts]  \n",
    ">(ii) Assume that early Titan’s atmosphere was made of pure hydrogen (H$_2$). What would be the scale height using the usual formula and assuming an isothermal temperature of 90 K? Look up Titan’s radius. As a percentage, how much is the scale height a fraction of Titan’s radius? [Titan $g = 1.37$ m/s$^2$] [2 pts]  \n",
    ">(iii) Why is a pure hydrogen atmosphere unlikely to be found around a planet like Titan? [1 pt]   \n",
    "\n",
    "### Part 1:  \n",
    "Starting with the hydrostatic equation,  \n",
    "$$ \\frac{dP}{P} = - \\left ( \\frac{\\bar{m}g}{R\\bar{T}} \\right) dr $$  \n",
    "and plugging in $$ g = \\frac{GM}{r^2} $$ we get,  \n",
    "$$ \\frac{dP}{P} = - \\left ( \\frac{GM\\bar{m}}{R\\bar{T}} \\right ) \\frac{dr}{r^2}$$  \n",
    "Now we want to integrate both sides of the above expression from the surface (at $z=R_p$) to some height z,  \n",
    "$$ \\int_{p_s}^{p(z)} \\frac{dP}{P} = - \\left ( \\frac{GM\\bar{m}}{R\\bar{T}} \\right ) \\int_{R_p}^{z} \\frac{dr}{r^2}$$  \n",
    "$$ \\ln \\left ( \\frac{p(z)}{p_s} \\right ) = \\left ( \\frac{GM\\bar{m}}{R\\bar{T}} \\right ) \\left ( \\frac{1}{z} - \\frac{1}{R_p} \\right ) $$  \n",
    "Exponentiate both sides and simplifying our result,  \n",
    "$$ p(z) = p_s \\exp \\left ( \\frac{-GM\\bar{m}}{R_p R\\bar{T}} \\right ) \\exp \\left ( \\frac{GM\\bar{m}}{z R\\bar{T}}  \\right )\n",
    "$$  \n",
    "If we define the surface gravity,  \n",
    "$$ g_s = \\frac{GM}{R_p^2} $$  \n",
    "Then we can write the typical pressure scale height as  \n",
    "$$ H = \\frac{R \\bar{T}}{g_s} $$  \n",
    "Our solution now simplifies to: \n",
    "$$ p(z) = p_s \\exp \\left ( \\frac{-R_p}{H} \\right ) \\exp \\left ( \\frac{R_p^2}{H z}  \\right ) $$  \n",
    "\n",
    "### Part 2:   \n",
    "We'll start with the isothermal temperature of"
   ]
  },
  {
   "cell_type": "code",
   "execution_count": 32,
   "metadata": {
    "collapsed": false
   },
   "outputs": [
    {
     "data": {
      "text/latex": [
       "$90 \\; \\mathrm{K}$"
      ],
      "text/plain": [
       "<Quantity 90.0 K>"
      ]
     },
     "execution_count": 32,
     "metadata": {},
     "output_type": "execute_result"
    }
   ],
   "source": [
    "T3 = 90 * u.K; T3"
   ]
  },
  {
   "cell_type": "markdown",
   "metadata": {},
   "source": [
    "The mean molecular weight for hydrogen gas:"
   ]
  },
  {
   "cell_type": "code",
   "execution_count": 33,
   "metadata": {
    "collapsed": false
   },
   "outputs": [
    {
     "data": {
      "text/latex": [
       "$2 \\; \\mathrm{\\frac{g}{mol}}$"
      ],
      "text/plain": [
       "<Quantity 2.0 g / mol>"
      ]
     },
     "execution_count": 33,
     "metadata": {},
     "output_type": "execute_result"
    }
   ],
   "source": [
    "muH2 = 2.0 * u.g / u.mol; muH2"
   ]
  },
  {
   "cell_type": "markdown",
   "metadata": {},
   "source": [
    "which, in grams, is"
   ]
  },
  {
   "cell_type": "code",
   "execution_count": 34,
   "metadata": {
    "collapsed": false
   },
   "outputs": [
    {
     "data": {
      "text/latex": [
       "$3.3210781 \\times 10^{-24} \\; \\mathrm{g}$"
      ],
      "text/plain": [
       "<Quantity 3.3210780808543285e-24 g>"
      ]
     },
     "execution_count": 34,
     "metadata": {},
     "output_type": "execute_result"
    }
   ],
   "source": [
    "mH2 = muH2 / NA; mH2"
   ]
  },
  {
   "cell_type": "markdown",
   "metadata": {},
   "source": [
    "The gravity of Titan:"
   ]
  },
  {
   "cell_type": "code",
   "execution_count": 35,
   "metadata": {
    "collapsed": false
   },
   "outputs": [
    {
     "data": {
      "text/latex": [
       "$1.37 \\; \\mathrm{\\frac{m}{s^{2}}}$"
      ],
      "text/plain": [
       "<Quantity 1.37 m / s2>"
      ]
     },
     "execution_count": 35,
     "metadata": {},
     "output_type": "execute_result"
    }
   ],
   "source": [
    "g_titan = 1.37 * u.m / u.second**2; g_titan"
   ]
  },
  {
   "cell_type": "markdown",
   "metadata": {},
   "source": [
    "We calculate the pressure scale height to be:"
   ]
  },
  {
   "cell_type": "code",
   "execution_count": 36,
   "metadata": {
    "collapsed": false
   },
   "outputs": [
    {
     "data": {
      "text/latex": [
       "$273.1027 \\; \\mathrm{km}$"
      ],
      "text/plain": [
       "<Quantity 273.10269617896796 km>"
      ]
     },
     "execution_count": 36,
     "metadata": {},
     "output_type": "execute_result"
    }
   ],
   "source": [
    "H3 = pressure_scale_height(T3, mH2, g_titan) * u.m.in_units(u.km) * u.km/u.m; H3"
   ]
  },
  {
   "cell_type": "markdown",
   "metadata": {},
   "source": [
    "Titan's radius is "
   ]
  },
  {
   "cell_type": "code",
   "execution_count": 37,
   "metadata": {
    "collapsed": false
   },
   "outputs": [
    {
     "data": {
      "text/latex": [
       "$2576 \\; \\mathrm{km}$"
      ],
      "text/plain": [
       "<Quantity 2576.0 km>"
      ]
     },
     "execution_count": 37,
     "metadata": {},
     "output_type": "execute_result"
    }
   ],
   "source": [
    "R_titan = 2576. * u.km; R_titan"
   ]
  },
  {
   "cell_type": "markdown",
   "metadata": {},
   "source": [
    "This means that if Titan ever had a pure hydrogen atmosphere, the pressure scale height would have been "
   ]
  },
  {
   "cell_type": "code",
   "execution_count": 38,
   "metadata": {
    "collapsed": false
   },
   "outputs": [
    {
     "data": {
      "text/latex": [
       "$10.601813 \\; \\mathrm{\\%}$"
      ],
      "text/plain": [
       "<Quantity 10.60181273986677 %>"
      ]
     },
     "execution_count": 38,
     "metadata": {},
     "output_type": "execute_result"
    }
   ],
   "source": [
    "H3 / R_titan * 100 * u.percent"
   ]
  },
  {
   "cell_type": "markdown",
   "metadata": {},
   "source": [
    "the radius of Titan."
   ]
  },
  {
   "cell_type": "markdown",
   "metadata": {},
   "source": [
    "### Part 3:  \n",
    "A pure hydrogen atmosphere is unlikely to be found for a planet like Titan because the low mass of hydrogen leads to such a vertically extended atmosphere that the molecules can easily escape the low gravity of the small world. Becuase temperature is the average kinetic energy of the molecules in a gas, low mass molecules achieve much higher velocities than heavier molecules (like carbon dioxide and hydrocarbons) at any given temperature. Atmospheric escape can occur when the velocity of molecules exceeds the escape velocity of a planet. This condition is easily met for hydrogen in the atmospheres of small planets and moons. "
   ]
  },
  {
   "cell_type": "markdown",
   "metadata": {},
   "source": [
    "## Problem 4:  \n",
    ">[7 points] An Earth-based spectroscopic measurement of the strength of some features in the infrared spectrum of Mars reports a column abundance of CO2 of 8000 cm-amagat.  \n",
    "\n",
    ">a. What is the corresponding surface pressure of carbon dioxide in millibars? [Data: molar mass of CO2 is 44 g/mol; Martian gravity g = 3.72 m s-2].\n",
    "[4 pts]  \n",
    "\n",
    ">b. The paper reporting this result does not bother to tell us whether the abundance refers to the sub-Earth region of Mars (i.e. a vertical incidence region of Mars in the direct line-of-sight from Earth) or to an average over the entire disk of Mars. Would the surface pressure be less, the same, or greater than the value calculated in (a) if the reported abundance is actually a whole- disk average? Justify your answer in a qualitative fashion. (With a bit of thought and ‘one step’ arithmetic, it is possible to calculate disk-average pressure versus line of sight pressure. You’re looking to deduce a weighting factor for a disk average rather than a direct path perpendicular to the surface at the equator. This gets a bonus point, but if you’re not sure, don’t sweat it because it's subtle).\n",
    "[2 pts + 1 bonus pt]"
   ]
  },
  {
   "cell_type": "markdown",
   "metadata": {},
   "source": [
    "### Part 1:  \n",
    "Let's define the atm unit of pressure in terms of bars:"
   ]
  },
  {
   "cell_type": "code",
   "execution_count": 43,
   "metadata": {
    "collapsed": false
   },
   "outputs": [
    {
     "data": {
      "text/latex": [
       "$1.01325 \\; \\mathrm{bar}$"
      ],
      "text/plain": [
       "<Quantity 1.01325 bar>"
      ]
     },
     "execution_count": 43,
     "metadata": {},
     "output_type": "execute_result"
    }
   ],
   "source": [
    "atm = 1.01325 * u.bar; atm"
   ]
  },
  {
   "cell_type": "markdown",
   "metadata": {},
   "source": [
    "Then the column abundance thing ($\\mathcal{N}$) is"
   ]
  },
  {
   "cell_type": "code",
   "execution_count": 44,
   "metadata": {
    "collapsed": false
   },
   "outputs": [
    {
     "data": {
      "text/latex": [
       "$8106 \\; \\mathrm{bar\\,cm}$"
      ],
      "text/plain": [
       "<Quantity 8106.0 bar cm>"
      ]
     },
     "execution_count": 44,
     "metadata": {},
     "output_type": "execute_result"
    }
   ],
   "source": [
    "N = 8000. * u.cm* atm ;N"
   ]
  },
  {
   "cell_type": "markdown",
   "metadata": {},
   "source": [
    "The mean molecular weight of CO$_2$ is"
   ]
  },
  {
   "cell_type": "code",
   "execution_count": 45,
   "metadata": {
    "collapsed": false
   },
   "outputs": [
    {
     "data": {
      "text/latex": [
       "$44 \\; \\mathrm{\\frac{g}{mol}}$"
      ],
      "text/plain": [
       "<Quantity 44.0 g / mol>"
      ]
     },
     "execution_count": 45,
     "metadata": {},
     "output_type": "execute_result"
    }
   ],
   "source": [
    "muCO2 = 44. * u.g / u.mol; muCO2"
   ]
  },
  {
   "cell_type": "markdown",
   "metadata": {},
   "source": [
    "which is"
   ]
  },
  {
   "cell_type": "code",
   "execution_count": 46,
   "metadata": {
    "collapsed": false
   },
   "outputs": [
    {
     "data": {
      "text/latex": [
       "$7.3063718 \\times 10^{-23} \\; \\mathrm{g}$"
      ],
      "text/plain": [
       "<Quantity 7.306371777879523e-23 g>"
      ]
     },
     "execution_count": 46,
     "metadata": {},
     "output_type": "execute_result"
    }
   ],
   "source": [
    "mCO2 = muCO2 / NA; mCO2"
   ]
  },
  {
   "cell_type": "markdown",
   "metadata": {},
   "source": [
    "Finall, the gravity of Mars and the Loschmidt number are "
   ]
  },
  {
   "cell_type": "code",
   "execution_count": 47,
   "metadata": {
    "collapsed": false
   },
   "outputs": [
    {
     "data": {
      "text/latex": [
       "$3.72 \\; \\mathrm{\\frac{m}{s^{2}}}$"
      ],
      "text/plain": [
       "<Quantity 3.72 m / s2>"
      ]
     },
     "execution_count": 47,
     "metadata": {},
     "output_type": "execute_result"
    }
   ],
   "source": [
    "g_mars = 3.72 * u.m / u.second**2; g_mars"
   ]
  },
  {
   "cell_type": "code",
   "execution_count": 48,
   "metadata": {
    "collapsed": false
   },
   "outputs": [
    {
     "data": {
      "text/latex": [
       "$2.687 \\times 10^{19} \\; \\mathrm{\\frac{1}{cm^{3}}}$"
      ],
      "text/plain": [
       "<Quantity 2.687e+19 1 / cm3>"
      ]
     },
     "execution_count": 48,
     "metadata": {},
     "output_type": "execute_result"
    }
   ],
   "source": [
    "n0 = 2.687e19 * u.cm**-3; n0"
   ]
  },
  {
   "cell_type": "markdown",
   "metadata": {},
   "source": [
    "From the notes, we can calculate pressure from the column abundance, atmospheric mass, and gravity using this relation  \n",
    "$$ p(z) = N_c(z) \\bar{m} g $$  \n",
    "where true column abundance can be computed from via,  \n",
    "$$ N_c(z) = n_0 \\mathcal{N} $$  \n",
    "This gives the following in fundamental SI unit bases:"
   ]
  },
  {
   "cell_type": "code",
   "execution_count": 50,
   "metadata": {
    "collapsed": false
   },
   "outputs": [
    {
     "data": {
      "text/latex": [
       "$59199627 \\; \\mathrm{\\frac{kg^{2}}{m^{2}\\,s^{4}}}$"
      ],
      "text/plain": [
       "<Quantity 59199627.33545207 kg2 / (m2 s4)>"
      ]
     },
     "execution_count": 50,
     "metadata": {},
     "output_type": "execute_result"
    }
   ],
   "source": [
    "p_mars1 = N.decompose() * n0.decompose() * mCO2.decompose() * g_mars.decompose(); p_mars1"
   ]
  },
  {
   "cell_type": "markdown",
   "metadata": {},
   "source": [
    "Note that the fundamental SI units of pressure are $\\frac{\\text{kg}}{\\text{m s}^2}$, e.g. "
   ]
  },
  {
   "cell_type": "code",
   "execution_count": 188,
   "metadata": {
    "collapsed": false
   },
   "outputs": [
    {
     "data": {
      "text/latex": [
       "$\\mathrm{100000\\,\\frac{kg}{m\\,s^{2}}}$"
      ],
      "text/plain": [
       "Unit(\"100000 kg / (m s2)\")"
      ]
     },
     "execution_count": 188,
     "metadata": {},
     "output_type": "execute_result"
    }
   ],
   "source": [
    "u.bar.decompose()"
   ]
  },
  {
   "cell_type": "markdown",
   "metadata": {},
   "source": [
    "We have calculated something that has units of pressure squared! Therefore, it would seems that this equation from the notes:  \n",
    "\n",
    "$$ p(z) = N_c(z) \\bar{m} g $$ \n",
    "\n",
    "should actually be:  \n",
    "\n",
    "$$ p(z) = \\sqrt{N_c(z) \\bar{m} g} $$  \n",
    "\n",
    "Using this expression we get:"
   ]
  },
  {
   "cell_type": "code",
   "execution_count": 53,
   "metadata": {
    "collapsed": false
   },
   "outputs": [
    {
     "data": {
      "text/latex": [
       "$7694.1294 \\; \\mathrm{\\frac{kg}{m\\,s^{2}}}$"
      ],
      "text/plain": [
       "<Quantity 7694.129407246286 kg / (m s2)>"
      ]
     },
     "execution_count": 53,
     "metadata": {},
     "output_type": "execute_result"
    }
   ],
   "source": [
    "p_mars2 = np.sqrt((n0 * N).decompose() * g_mars.decompose() * mCO2.decompose()); p_mars2"
   ]
  },
  {
   "cell_type": "markdown",
   "metadata": {},
   "source": [
    "Converting to bars, this is"
   ]
  },
  {
   "cell_type": "code",
   "execution_count": 55,
   "metadata": {
    "collapsed": false
   },
   "outputs": [
    {
     "data": {
      "text/latex": [
       "$0.076941294 \\; \\mathrm{bar}$"
      ],
      "text/plain": [
       "<Quantity 0.07694129407246286 bar>"
      ]
     },
     "execution_count": 55,
     "metadata": {},
     "output_type": "execute_result"
    }
   ],
   "source": [
    "p_mars2_bar = (p_mars2 / u.bar.decompose()).decompose() * u.bar; p_mars2_bar"
   ]
  },
  {
   "cell_type": "markdown",
   "metadata": {},
   "source": [
    "This is about 77 mbar of CO$_2$ at the surface of Mars, roughly an order of magnitude higher than the true surface pressure of Mars (${\\sim}6$ mbar). "
   ]
  },
  {
   "cell_type": "markdown",
   "metadata": {},
   "source": [
    "### Part 2:  \n",
    "If the reported column abundance were disk-integrated, rather than the vertical column at the sub-Earth point, the inferred surface pressure would be lower. The sub-Earth path to the surface is the minimum possible path over the ensemble of paths that connect the observer and all visible locations of the surface of Mars. Integrating the column abundance over the entire disk will necessarily include contributions from these longer paths, which encounter more CO$_2$ molecules, and bias us towards higher surface pressures if we misinterpret it for only the sub-observer view.  \n",
    "\n",
    "Since the true surface pressure of the CO$_2$-dominated Martian atmosphere is ${\\sim}6$ mbar, we are off by a factor of about 10. So perhaps the weighting factor is 10 or, better yet, $\\pi^2$, since that is the area of the disk in normalized units. \n",
    "\n",
    "To rigorously solve for the difference between inferred surface pressures using the nadir and disk-integrated views we must calculate the disk-averaged path length to the surface. This requires some geometry and a 2D integral over the visible disk of Mars. The answer is probably $\\pi^2$.  "
   ]
  },
  {
   "cell_type": "code",
   "execution_count": null,
   "metadata": {
    "collapsed": true
   },
   "outputs": [],
   "source": []
  }
 ],
 "metadata": {
  "anaconda-cloud": {},
  "kernelspec": {
   "display_name": "Python [default]",
   "language": "python",
   "name": "python2"
  },
  "language_info": {
   "codemirror_mode": {
    "name": "ipython",
    "version": 2
   },
   "file_extension": ".py",
   "mimetype": "text/x-python",
   "name": "python",
   "nbconvert_exporter": "python",
   "pygments_lexer": "ipython2",
   "version": "2.7.12"
  }
 },
 "nbformat": 4,
 "nbformat_minor": 1
}
