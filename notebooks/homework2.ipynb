{
 "cells": [
  {
   "cell_type": "code",
   "execution_count": 86,
   "metadata": {
    "collapsed": true
   },
   "outputs": [],
   "source": [
    "# Importing useful python packages\n",
    "import astropy.units as u\n",
    "import numpy as np"
   ]
  },
  {
   "cell_type": "markdown",
   "metadata": {},
   "source": [
    "## Problem 1:  \n",
    ">You are asked to be part of a NASA team designing an ultraviolet spectrometer to operate on the surface of Mars in the future. The spectrometer will look vertically upward and measure the flux over the wavelength range 180 nm to 400 nm in spectral intervals ~1 nm wide.  \n",
    "\n",
    ">(a) During an early team meeting, a question is raised about whether the\n",
    "spectrometer could be made sensitive enough to measure the column abundance of ozone, even in the low latitudes where the O3 abundance is generally low. You know that the column abundance of O3 has been measured remotely and is estimated as ~$5 \\times 10^{15}$ molecules cm-2 in the Martian low-latitudes. Meanwhile, a handbook gives the O3 absorption cross-section as 10-21 m2 at the deepest point in the Hartley bands, which occurs around a wavelength of 255 nm. You also know that as a rule-of- thumb, in order to discern a signal you need at least ten times better resolution than the signal itself. Estimate a minimum signal-to-noise ratio required by the UV spectrometer to measure column O3 abundance in the low latitudes of Mars with an overhead Sun. [3 pts]\n",
    "[Hint: Part (a) is not concerned with spectral resolution because O3 absorption is very broad. It’s asking ‘how precisely do you need to measure the flux at 255 nm to determine the absorption by overhead ozone?’]  \n",
    "\n",
    ">(b) While thinking about the problem in (a), you realize from the expected UV\n",
    "spectrum on Mars could also be used in another way: the UV spectrometer could effectively act as a barometer, measuring the column abundance of CO2. Discuss what characteristic of the UV spectrum on Mars could be used to do this? [3 pts]\n",
    "[This question is an account of a real-life situation encountered by your instructor.]  \n",
    "\n",
    "### Answer to a)"
   ]
  },
  {
   "cell_type": "code",
   "execution_count": 3,
   "metadata": {
    "collapsed": false
   },
   "outputs": [
    {
     "data": {
      "text/latex": [
       "$255 \\; \\mathrm{nm}$"
      ],
      "text/plain": [
       "<Quantity 255.0 nm>"
      ]
     },
     "execution_count": 3,
     "metadata": {},
     "output_type": "execute_result"
    }
   ],
   "source": [
    "lam = 255 * u.nm; lam"
   ]
  },
  {
   "cell_type": "code",
   "execution_count": 4,
   "metadata": {
    "collapsed": false
   },
   "outputs": [
    {
     "data": {
      "text/latex": [
       "$5 \\times 10^{15} \\; \\mathrm{\\frac{1}{cm^{2}}}$"
      ],
      "text/plain": [
       "<Quantity 5000000000000000.0 1 / cm2>"
      ]
     },
     "execution_count": 4,
     "metadata": {},
     "output_type": "execute_result"
    }
   ],
   "source": [
    "Nc = 5e15 * u.cm**-2; Nc"
   ]
  },
  {
   "cell_type": "code",
   "execution_count": 5,
   "metadata": {
    "collapsed": false
   },
   "outputs": [
    {
     "data": {
      "text/latex": [
       "$1 \\times 10^{-21} \\; \\mathrm{m^{2}}$"
      ],
      "text/plain": [
       "<Quantity 1e-21 m2>"
      ]
     },
     "execution_count": 5,
     "metadata": {},
     "output_type": "execute_result"
    }
   ],
   "source": [
    "sigma = 1e-21 * u.m**2; sigma"
   ]
  },
  {
   "cell_type": "markdown",
   "metadata": {},
   "source": [
    "**The optical depth is just $\\tau = N \\sigma$.**"
   ]
  },
  {
   "cell_type": "code",
   "execution_count": 10,
   "metadata": {
    "collapsed": false
   },
   "outputs": [
    {
     "data": {
      "text/latex": [
       "$0.05 \\; \\mathrm{}$"
      ],
      "text/plain": [
       "<Quantity 0.049999999999999996>"
      ]
     },
     "execution_count": 10,
     "metadata": {},
     "output_type": "execute_result"
    }
   ],
   "source": [
    "tau = (sigma * Nc).decompose(); tau"
   ]
  },
  {
   "cell_type": "markdown",
   "metadata": {},
   "source": [
    "**Then the fractional reduction in flux is $\\frac{I}{I_0} = e^{-\\tau}$**"
   ]
  },
  {
   "cell_type": "code",
   "execution_count": 81,
   "metadata": {
    "collapsed": false
   },
   "outputs": [
    {
     "data": {
      "text/plain": [
       "0.60638206237827741"
      ]
     },
     "execution_count": 81,
     "metadata": {},
     "output_type": "execute_result"
    }
   ],
   "source": [
    "np.exp(-tau)"
   ]
  },
  {
   "cell_type": "markdown",
   "metadata": {},
   "source": [
    "**So we would need a signal-to-noise ratio of 6.06 to measure to ozone column abundance.**"
   ]
  },
  {
   "cell_type": "markdown",
   "metadata": {},
   "source": [
    "### Answer to b)  \n",
    "**CO2 absorbs in the UV at wavelengths below about 220 nm. If we were to build a UV spectrometer to access these wavelengths, similar to ozone above, we could measure the column abundance of CO2. However, since CO2 is the bulk atmospheric constituent, the partial pressure of CO2 on Mars should be extremely close to the atmospheric pressure. Therefore, UV measurements of the CO2 column abundance could be used as a barometer. The assumption that the CO2 partial pressure is equal to the atmospheric pressure breaks down if there are other gases in the atmomphere with an apprciable abundance. For instance, seasonal variations of water in the Martian atmosphere could corrupt such inferences.**"
   ]
  },
  {
   "cell_type": "markdown",
   "metadata": {},
   "source": [
    "## Problem 2:  \n",
    ">The eccentricity of Mars’ orbit is 0.0934, while the eccentricity of Earth’s orbit is 0.0167. How much greater, as a percentage, is the equilibrium temperature of Mars and Earth at perihelion compared to aphelion for each planet? [4 points]  \n",
    "\n",
    "### Answer  \n",
    "**Relative to the semi-major axis $a$ and eccentricity $e$, the distance from the planet to the star at perihelion is \n",
    "$$ r_p = a(1-e) $$  \n",
    "and at aphelion is\n",
    "$$ r_a = a(1+e) $$  \n",
    "For Earth and Mars these values are:**"
   ]
  },
  {
   "cell_type": "code",
   "execution_count": 11,
   "metadata": {
    "collapsed": true
   },
   "outputs": [],
   "source": [
    "a_earth = 1.0\n",
    "a_mars = 1.5236\n",
    "\n",
    "e_earth = 0.0167\n",
    "e_mars = 0.0934\n",
    "\n",
    "rp_earth = a_earth * (1. - e_earth)\n",
    "ra_earth = a_earth * (1. + e_earth)\n",
    "\n",
    "rp_mars = a_mars * (1. - e_mars)\n",
    "ra_mars = a_mars * (1. + e_mars)"
   ]
  },
  {
   "cell_type": "code",
   "execution_count": 36,
   "metadata": {
    "collapsed": false
   },
   "outputs": [
    {
     "name": "stdout",
     "output_type": "stream",
     "text": [
      "Semi-major axis    Perihelion    Aphelion\n",
      "---------------    ----------    --------\n",
      "1.0000             0.9833        1.0167\n",
      "1.5236             1.3813        1.6659\n"
     ]
    }
   ],
   "source": [
    "print \"Semi-major axis   \", \"Perihelion   \", \"Aphelion\"\n",
    "print \"---------------   \", \"----------   \", \"--------\"\n",
    "print \"%.4f             %.4f        %.4f\" %(a_earth, rp_earth, ra_earth)\n",
    "print \"%.4f             %.4f        %.4f\" %(a_mars, rp_mars, ra_mars)"
   ]
  },
  {
   "cell_type": "markdown",
   "metadata": {},
   "source": [
    "**Since the equilibrium temperature scales with heliocentric distance as  \n",
    "$$ T_{eq}^{4} \\sim 1 / r^{2} $$ \n",
    "we can calculate the ratio of equilibrium temperature at perihelion to aphelion using  \n",
    "$$ f_T = \\frac{T_{eq,per}}{T_{eq,ap}} = \\left ( \\frac{d_{ap}}{d_{per}} \\right )^{1/2} $$\n",
    "This can the be expressed as a percentage as $100 \\times (f_T - 1)$. For Earth this is: **"
   ]
  },
  {
   "cell_type": "code",
   "execution_count": 24,
   "metadata": {
    "collapsed": false
   },
   "outputs": [
    {
     "name": "stdout",
     "output_type": "stream",
     "text": [
      "1.68418033929 %\n"
     ]
    }
   ],
   "source": [
    "Trat_earth = (ra_earth / rp_earth)**0.5 \n",
    "\n",
    "print (Trat_earth - 1.0) * 100, \"%\""
   ]
  },
  {
   "cell_type": "markdown",
   "metadata": {},
   "source": [
    "**and for Mars this is:**"
   ]
  },
  {
   "cell_type": "code",
   "execution_count": 25,
   "metadata": {
    "collapsed": false
   },
   "outputs": [
    {
     "name": "stdout",
     "output_type": "stream",
     "text": [
      "9.82006019394 %\n"
     ]
    }
   ],
   "source": [
    "Trat_mars = (ra_mars / rp_mars)**0.5\n",
    "\n",
    "print (Trat_mars - 1.0) * 100, \"%\""
   ]
  },
  {
   "cell_type": "markdown",
   "metadata": {},
   "source": [
    "## Problem 3:  \n",
    ">Examine the graphs below. Fig. 1 shows calculated gas abundance as partial pressure (bar) in Jupiter’s troposphere as a function of depth beneath the ammonia cloud layer. Fig. 2 shows the UV flux incident at Jupiter. Finally, Fig. 3 shows a UV absorption coefficient for selected gases relevant to Jupiter’s atmosphere. In a qualitative way, offer some general conclusions about how effective the gases in Fig. 3 are in shielding one another from photolysis in Jupiter’s troposphere. Comment on helium [1 pt], methane [1 pt], ammonia [2 pt], phosphine [1 pt] and hydrogen sulfide [1 pt]. Note that phosphine, PH3, is present at a much lower abundance in the upper troposphere than ammonia (NH3), but unlike NH3, phosphine is not condensable. Phosphine photolyzes to yield free phosphorus, which has many colors (white, yellow, red, black), which may account for some of Jupiter’s colors. Photolysis of H2S to produce sulfur also will give Jupiter some of its color. [As an example of this kind of discussion: H2\n",
    "overlies NH3 in enormous quantities (Fig. 1). However, H2 is incapable of shielding NH3 from photolysis significantly because H2 does not absorb over the wide wavelength interval from 100 to 235 nm in which the Sun and is very bright and NH3 absorbs strongly]. [6 points]  \n",
    "\n",
    "### Answer  \n",
    "**Hydrogen and helium absorb short, high energy UV radiation and both exist in high abundance. They likely help shield all the other gases from photolysis at these short wavelengths. However, they are ineffective at shielding longward of 1000 angstroms. Methane is also a relatively abundant gas in Jupiter's atmosphere and is capable of shielding other gases from photolysis up to about 1500 angstroms. Between about 1500-2300 angstroms, ammonia is less protected from photolysis by the major atmospheric constituents, but does shield hydrogen sulfide in this range. Hydrogen sulfide appears to be the only gas that absorbs radiation between about 2300-2800 angstroms, a wavelength interval over which the Sun increases in brightness by about an order of magnitude, which seems to result in photolysis and a subsequent drop in abundance. There seems to be a general trend that, where there are more UV photons (near UV) there is less shielding, and the gases that are photochemically active at these wavelengths are photolyzed deeper in the troposphere, where the optical depth is about unity for these less abundant gases.**"
   ]
  },
  {
   "cell_type": "markdown",
   "metadata": {},
   "source": [
    "## Problem 4:  \n",
    ">[5 points total] At the surface of a planet of Earth mass (...in a galaxy far, far away) about 10% of the violet (450 nm) radiation from its sun is scattered during vertical incidence transit through its atmosphere.  \n",
    "\n",
    ">(a) If the atmosphere has a pressure of 2 bar at the surface and the mean molar mass is 38 grams, estimate the mean Rayleigh scattering cross- section (i.e. cross-section (in cm2) per molecule) for the atmospheric gas mixture. You can assume that the attenuation is due solely to Rayleigh scattering rather than any other form of extinction. [3 pts]  \n",
    "\n",
    ">(b) Estimate the fraction of incident red (900 nm) light that is scattered by\n",
    "passing through the same atmosphere when the sun is 30° above the horizon. [2 pts]"
   ]
  },
  {
   "cell_type": "markdown",
   "metadata": {},
   "source": [
    "### Answer to a)  \n",
    "**If 10% of the radiation is scattered, then 90% of the radiation reaches the surface. Hence, the optical depth at this wavelength due to Rayleigh scattering can be found using:  \n",
    "$$ \\frac{I}{I_0} = e^{-\\tau} \\rightarrow \\tau = \\ln(10/9) = 1.111 $$  \n",
    "At normal incidence the optical depth is related to the cross section $\\sigma$ and the column density $N$ via $\\tau = N \\sigma$. We can find $N$ in terms of the pressure $P$, gravity $g$, and mean molecular weight $\\mu$ as \n",
    "$$ P = N \\mu g $$ \n",
    "Therefore, the Rayleigh scattering cross section is  \n",
    "$$ \\sigma = \\frac{\\tau \\mu g}{P} = \\frac{(1.111)(38 \\text{ amu})(9.8 \\text{ m/s}^2)}{(2 \\text{ bar})} = 3.26 \\times 10^{-27} \\text{ cm}^2 \\text{/molecule}$$  **\n",
    "\n",
    "### Answer to b)  \n",
    "**First we will use our answer from part (a) for the Rayleigh scattering cross section at 450nm to calculate the cross section at 900nm, using the following scaling relation: $\\sigma \\sim \\lambda^{-4}$. Thus, \n",
    "$$ \\sigma_{900} = \\sigma_{450} \\left ( \\frac{900 \\text{ nm}}{450 \\text{ nm}} \\right )^{-4} \\\\ = ( 3.26 \\times 10^{-27} \\text{ cm}^2 \\text{/molecule} ) \\left ( \\frac{900 \\text{ nm}}{450 \\text{ nm}} \\right )^{-4} \\\\ = 2.037 \\times 10^{-28} \\text{ cm}^2 \\text{/molecule}$$  \n",
    "Now, we can solve for the ratio of incident flux that reaches the surface by scaling the column density from above ($N \\approx 3.23 \\times 10^{25} \\text{ molecules/cm}^{2}$) by $1/\\cos(\\theta)$, where $\\theta$ is the solar zenith angle:  \n",
    "$$ \\frac{I}{I_0} = e^{-\\tau} = e^{-N \\sigma_{900} / \\cos(60^{\\circ})} \\approx 0.9869$$**"
   ]
  },
  {
   "cell_type": "code",
   "execution_count": 80,
   "metadata": {
    "collapsed": false
   },
   "outputs": [
    {
     "name": "stdout",
     "output_type": "stream",
     "text": [
      "0.986927181381\n"
     ]
    }
   ],
   "source": [
    "Irat = np.exp( -(3.23e25)*(2.037e-28) / np.cos(60. * np.pi/180.) )\n",
    "print Irat"
   ]
  },
  {
   "cell_type": "markdown",
   "metadata": {},
   "source": [
    "**Only 1.3% of the light at 900nm is Rayleigh scattered near sunset. This is why the sky appears red in the direction of the sun at sunset.** "
   ]
  },
  {
   "cell_type": "markdown",
   "metadata": {},
   "source": [
    "## Problem 5:  \n",
    ">[16 points total] Astronomers discover a large asteroid on a collision course with the Earth. It is expected to hit somewhere in the Middle East. Sadly, it is too late to stop the asteroid. But it can be deflected so that it lands in an unpopulated area. Government A argues that the asteroid should be deflected into the desert of Iraq. However, Government B argues that that the asteroid should be deflected into the Indian Ocean.  \n",
    "\n",
    ">The question is: which is worse for the inhabitants of the Earth: a land impact or an ocean splash?  \n",
    "\n",
    ">For climate risk assessment, you have the following information:\n",
    "* In the event of a desert impact, dust lifted into the atmosphere will\n",
    "decrease the planetary albedo for reflected sunlight from the top of the atmosphere from 0.3 to 0.25, while the absorption of solar radiation in the atmosphere will increase from 20% to 50% as a percentage of the incoming solar flux.\n",
    "* If the asteroid lands in water, the amount of water vapor introduced into the atmosphere will make the lower atmosphere entirely opaque to thermal infrared radiation for several weeks.  \n",
    "\n",
    "> (a) The media dubs one scenario analogous to a \"nuclear winter\" and the other a \"hothouse Earth\". Before calculating anything, which of the scenarios do you think will be analogous to a \"nuclear winter\" and which would be the \"hothouse\". [2 pts]  \n",
    "\n",
    "### Answer to a)  \n",
    "**I would think that the desert impact would be the \"nuclear winter\" because the atmosphere will absorb more radiation and reradiate half of it back to space. The \"hothouse Earth\" would be the water impact beacuse if the atmosphere becomes entirely opaque to thermal IR radiation then the Earth will be unable to cool and will lead to a rise in surface temperature. **  \n",
    "\n",
    ">(b) Consider a simplified model for the impact on land where the atmosphere consists of a single, slab layer above the surface at temperature T1. Assume the ground is at temperature Tg. Before the impact, the time- and space-averaged solar radiation on the planet is reflected according to albedo, and the atmosphere absorbs 20% of the solar radiation (total, not minus the reflected amount) before it reaches the ground. Assume the surface emits like a blackbody and assume the atmospheric layer emits\n",
    "like a blackbody. Take the solar constant S = 1360 W m-2. The Stefan- Boltzmann constant = σ = 5.67× 10-8 W m-2 K-4.  \n",
    "\n",
    ">(i) Evaluate the temperature of the ground before the impact. (Hint: Draw a diagram and consider a balance of fluxes in and out of each of the atmosphere layer, the ground, and top of atmosphere; remember that the atmospheric layer emits downward and upward. Apply the Stefan-Boltzmann law, in particular). [4 pts]  \n",
    ">(ii) Evaluate the temperature of the ground after impact. [4 pts]  \n",
    ">(iii) Explain qualitatively why, in a more complex calculation, the\n",
    "ground temperature is likely to depend on the vertical position of the dust in the atmosphere (e.g., troposphere versus stratosphere). [4 pts]  \n",
    "\n",
    "### Answer to b) \n",
    "**To maintain flux balance, we get the following two equations, one for each radiating layer/surface. In the atmospheric layer at temperature $T_1$,  \n",
    "$$ \\frac{\\alpha S_{\\oplus}}{4} = 2 \\sigma T_1^4 $$\n",
    "where $\\alpha$ is the raction of flux absorbed by the atmosphere layer, and the $2$ on the RHS comes from the fact the radiation is emitted upwards and downwards. For the surface, at temperature $T_g$, we have\n",
    "$$ \\frac{S_{\\oplus}}{4}(1 - A - \\alpha) + \\sigma T_1^4 = \\sigma T_g^4 $$\n",
    "Solving this system of equations for the ground temperature gives:\n",
    "$$ T_g = \\left [\\frac{S_{\\oplus}}{4 \\sigma} (1 - A - \\alpha/2) \\right ]^{1/4} $$ \n",
    "Plugging in the numbers...** "
   ]
  },
  {
   "cell_type": "code",
   "execution_count": 82,
   "metadata": {
    "collapsed": false
   },
   "outputs": [
    {
     "name": "stdout",
     "output_type": "stream",
     "text": [
      "244.912965608 K\n"
     ]
    }
   ],
   "source": [
    "A = 0.3          # Albedo of Earth initially      \n",
    "S_e = 1360.      # Solar Constant  \n",
    "f = 0.2          # Fraction of flux absorbed by atmosphere initially\n",
    "sigma = 5.67e-8  # Stefan-Boltzmann constant\n",
    "\n",
    "T_g = ((S_e) / (4. * sigma) * (1. - A - f/2))**(0.25)\n",
    "\n",
    "print T_g, \"K\""
   ]
  },
  {
   "cell_type": "markdown",
   "metadata": {},
   "source": [
    "**(i) We find an initial surface temperature of 244.9K. A bit cold, but we'll work with it. After the land impact...**"
   ]
  },
  {
   "cell_type": "code",
   "execution_count": 83,
   "metadata": {
    "collapsed": false
   },
   "outputs": [
    {
     "name": "stdout",
     "output_type": "stream",
     "text": [
      "234.000327707 K\n"
     ]
    }
   ],
   "source": [
    "A = 0.25         # Albedo of Earth after impact      \n",
    "S_e = 1360.      # Solar Constant  \n",
    "f = 0.5          # Fraction of flux absorbed by atmosphere after impact\n",
    "sigma = 5.67e-8  # Stefan-Boltzmann constant\n",
    "\n",
    "T_g = ((S_e) / (4. * sigma) * (1. - A - f/2))**(0.25)\n",
    "\n",
    "print T_g, \"K\""
   ]
  },
  {
   "cell_type": "markdown",
   "metadata": {},
   "source": [
    "**(ii) We find that the temperature of the Earth after the impact has dropped to 234K.**  \n",
    "\n",
    "**(iii) The vertical location of the dust in the atmosphere will influence this result for a few reasons. First, if the dust were in the troposphere then more of the atmosphere above it would be able to absorb radiation. Also, since convection occurs in the troposphere, the amount of time the dust remains climatically active in the atmosphere will probably be much longer if it reaches the stratosphere, rather than settling in the troposphere.**  \n",
    "\n",
    ">(c) For the ocean impact, consider a modified model. Add a second layer to the atmosphere at temperature T2 beneath the layer at temperature T1. The lower layer is opaque to thermal infrared radiation from the ground. Assume that the absorption of total solar radiation is equally divided between the two atmospheric layers. What is temperature of the ground after the impact into the Indian Ocean, using this simple model? [4 pts]  \n",
    "\n",
    "### Answer to c)  \n",
    "**Similar to part (a), enforcing flux balance now gives three equations: \n",
    "$$ \\frac{\\alpha S_{\\oplus}}{8} = 2 \\sigma T_1^4 \\\\\n",
    "\\frac{\\alpha S_{\\oplus}}{8} + \\sigma T_1^4 + \\sigma T_g^4 = 2 \\sigma T_2^4 \\\\ \n",
    "\\frac{\\alpha S_{\\oplus}}{4}(1 - A - \\alpha) + \\sigma T_2^4 = \\sigma T_g^4$$\n",
    "where layer 2 of the atmosphere is optically thick to thermal radiation from the surface and from layer 1. Solving this system for $T_g$ requires lots of algebra and gives:\n",
    "$$ T_g = \\left [ \\frac{S_{\\oplus}}{2 \\sigma} \\left ( 1 - A - \\frac{5}{8} \\alpha \\right ) \\right ]^{1/4} $$**"
   ]
  },
  {
   "cell_type": "code",
   "execution_count": 84,
   "metadata": {
    "collapsed": false
   },
   "outputs": [
    {
     "name": "stdout",
     "output_type": "stream",
     "text": [
      "288.169773147 K\n"
     ]
    }
   ],
   "source": [
    "A = 0.3          # Albedo of Earth    \n",
    "S_e = 1360.      # Solar Constant  \n",
    "f = 0.2          # Fraction of flux absorbed by atmosphere after impact\n",
    "sigma = 5.67e-8  # Stefan-Boltzmann constant\n",
    "\n",
    "T_g = ((S_e) / (2. * sigma) * (1. - A - (5./8.)*f))**(0.25)\n",
    "\n",
    "print T_g, \"K\""
   ]
  },
  {
   "cell_type": "markdown",
   "metadata": {},
   "source": [
    "**After the water impact, we find the surface temperature to be 288K.**"
   ]
  },
  {
   "cell_type": "markdown",
   "metadata": {},
   "source": [
    "## Problem 6:  \n",
    ">[4 points total] Jupiter’s atmosphere receives energy from the Sun and from Jupiter’s interior. In this question, you may find the following information useful: Jupiter’s Bond albedo = 0.343, the solar constant at Earth is 1360 W m-2. The mean Earth-Sun distance is 1.496×1011 m; the mean Jupiter-Sun distance is 7.78×1011 m; Jupiter’s radius = 71,492 km. Stefan-Boltzmann constant = 5.67 ×10−8 W m−2 K−4.  \n",
    "\n",
    ">(i) What is the equilibrium temperature of Jupiter based on the input of solar energy only? [2 pts]\n",
    "\n",
    ">(ii) Spacecraft have measured the effective temperature of Jupiter as 124.4 K. The difference between the measured and the calculated value of the temperature is thought to be due to energy from the interior of the planet. How large a flux (W m-2) is required to account for the difference? How much energy (W) is emanating from the interior of the Jupiter? (Comparisons: 15 TW energy use by human civilization or 45 TW emanating from the Earth’s interior).  \n",
    "\n",
    "### Answer to a)  \n",
    "**We'll first scale the solar constant at Earth to Jupiter,  \n",
    "$$ S_J = S_{\\oplus} \\left ( \\frac{d_{\\oplus}}{d_J} \\right )^{2} $$**"
   ]
  },
  {
   "cell_type": "code",
   "execution_count": 50,
   "metadata": {
    "collapsed": false
   },
   "outputs": [
    {
     "name": "stdout",
     "output_type": "stream",
     "text": [
      "50.2855148988 W/m^2\n"
     ]
    }
   ],
   "source": [
    "S_J = 1360. * (1.496e11 / 7.78e11)**2; print S_J, \"W/m^2\""
   ]
  },
  {
   "cell_type": "markdown",
   "metadata": {},
   "source": [
    "**Now we can solve for the equilibrium temperature of Jupiter based on the solar input only:  \n",
    "$$ T_{eq} = \\left [ \\frac{(1-A)S_J}{4 \\sigma}\\right ]^{1/4} $$**"
   ]
  },
  {
   "cell_type": "code",
   "execution_count": 51,
   "metadata": {
    "collapsed": false
   },
   "outputs": [
    {
     "name": "stdout",
     "output_type": "stream",
     "text": [
      "109.860432695 K\n"
     ]
    }
   ],
   "source": [
    "A = 0.343        # Albedo of Jupiter      \n",
    "sigma = 5.67e-8  # Stefan-Boltzmann constant\n",
    "\n",
    "T_eq1 = (((1.-A)*S_J)/(4.*sigma))**(0.25)\n",
    "\n",
    "print T_eq1, \"K\""
   ]
  },
  {
   "cell_type": "markdown",
   "metadata": {},
   "source": [
    "**We find $T_{eq} \\approx 110$ K for Jupiter assuming only solar heating.**  \n",
    "\n",
    "### Answer to b)   \n",
    "**If the measured equilibrium temperature of Jupiter is:**"
   ]
  },
  {
   "cell_type": "code",
   "execution_count": 55,
   "metadata": {
    "collapsed": false
   },
   "outputs": [
    {
     "name": "stdout",
     "output_type": "stream",
     "text": [
      "124.4 K\n"
     ]
    }
   ],
   "source": [
    "T_J = 124.4 \n",
    "print T_J, \"K\""
   ]
  },
  {
   "cell_type": "markdown",
   "metadata": {},
   "source": [
    "**There must be internal heating, which can be accounted for via an additional flux term, $F_i$,  \n",
    "$$ \\sigma T_{eq}^4 = \\frac{(1-A)S_J}{4} + F_i$$\n",
    "which we will solve for \n",
    "$$F_i = \\sigma T_{eq}^4 - \\frac{(1-A)S_J}{4}$$**"
   ]
  },
  {
   "cell_type": "code",
   "execution_count": 56,
   "metadata": {
    "collapsed": false
   },
   "outputs": [
    {
     "name": "stdout",
     "output_type": "stream",
     "text": [
      "5.31950387412 W/m^2\n"
     ]
    }
   ],
   "source": [
    "F_i = sigma * T_J**4 - (((1.-A)*S_J)/(4.))\n",
    "print F_i, \"W/m^2\""
   ]
  },
  {
   "cell_type": "markdown",
   "metadata": {},
   "source": [
    "**A flux of roughly $5.3$ W/m$^2$ is required to explain Jupiter's equilibrium temperature. Multipyling this by Jupiter's surface area ($4 \\pi R_J^2$) will give us the total energy emanating from Jupiter's interior: **"
   ]
  },
  {
   "cell_type": "code",
   "execution_count": 57,
   "metadata": {
    "collapsed": false
   },
   "outputs": [
    {
     "name": "stdout",
     "output_type": "stream",
     "text": [
      "3.41661377024e+17 Watts\n"
     ]
    }
   ],
   "source": [
    "R_J = 71492000.    # Radius of Jupiter in meters\n",
    "E_J = F_i * 4. * np.pi * R_J**2\n",
    "print E_J, \"Watts\""
   ]
  },
  {
   "cell_type": "markdown",
   "metadata": {},
   "source": [
    "**This is a massive 341 petawatts! Which is comparable to the total power intercepted by the Earth from the Sun. Even though the flux is much lower than the solar constant, Jupiter's large radius makes the total power radiated from the interior so immense.**"
   ]
  },
  {
   "cell_type": "markdown",
   "metadata": {},
   "source": [
    "## Problem 7:  \n",
    ">The figures below are coincident measurements of IR emission of the terrestrial cloud-free atmosphere (a) 20 km looking downward over a polar ice sheet (b) at the surface looking upward. Answer the following. In each case explain how you deduce the answer with reference to the part of the spectrum or feature that you’re looking at:   \n",
    "\n",
    ">(a) What is the approximate temperature of the surface of the ice sheet? [3 pts]  \n",
    "\n",
    "**The surface of the ice sheet is approximately 267K, which I deduce from the continuum flux in panel (a).**  \n",
    "\n",
    ">(b) What is the approximate temperature of the near-surface air? [3 pts]  \n",
    "\n",
    "**The temperature of the near-surface air is approximately 270K, which I deduce from the core of the 15 micron CO2 band in panel (b). As stated in the reading, at the surface of the Earth the core of the band is approximately 95% absorbed in just one meter! This makes it very sensitive to the temperature near the detector.**  \n",
    "\n",
    ">(c) What is the approximate temperature of the air at the aircraft’s altitude of 20 km? [3 pts]  \n",
    "\n",
    "**Similarly, we can use the core of the 15 micron CO2 band in panel (a) to estimate the temperature at the aircraft height of 20 km to be approximately 230K.**  \n",
    "\n",
    ">(d) Which band is responsible for the feature between 9 and 10 microns? [1pt]  \n",
    "\n",
    "**Ozone absorbs between 9 and 10 microns.**  \n",
    "\n",
    ">(e) Is there any evidence for an inversion in the near-surface temperature\n",
    "profile or not? [2 pts]  \n",
    "\n",
    "**There may be evidence of a near-surface inversion in the wings of the 15 micron CO2 band in panel (b). It looks like the wings have a slightly higher radiance than much of the rest of the band (not the core tho), but we know that the absorption cross-section is lower here, which implies that the light is emitted slightly farther away (higher up), yet it is warmer there. This may imply that it is slightly warmer just above the surface, where there is perhaps less cooling of air from the ice...**  \n",
    "\n",
    "## Problem 8: \n",
    ">8) [4 points total]. A scientist wants to measure the top-of-atmosphere solar intensity. She uses a ground-based radiometer operating at λ = 0.45 μm to measure the solar intensity at the ground, Iλ(0). For a solar zenith angle θ = 30°, Iλ(0) = 1.74×107 W m-2 μm-1 sr-1. For θ = 60°, Iλ(0) = 1.14×107 W m-2 μm-1 sr-1. From this information, determine the top-of-the-atmosphere solar intensity Sλ (in W m-2 μm-1 sr-1 ) and the atmospheric optical thickness, τλ.  \n",
    "\n",
    "### Answer\n",
    "**Let's denote her first measurement $I_1$ at $\\theta_1=30$ degrees, and her second measurement $I_2$ at $\\theta_2=60$ degrees. We can use the Beer-Lambert Law for each measurement to set up a system of 2 equations and 2 unknowns: \n",
    "$$ I_1 = I_0 e^{-\\tau / \\cos(\\theta_1)} \\\\ I_2 = I_0 e^{-\\tau / \\cos(\\theta_2)}$$ \n",
    "We can now solve for the common optical depth by dividing one equation by the other and solving for $\\tau$. Then we get: $$ \\tau = \\frac{\\ln(I_1/I_2)}{\\sec(\\theta_2) - \\sec(\\theta_1)} $$**"
   ]
  },
  {
   "cell_type": "code",
   "execution_count": 61,
   "metadata": {
    "collapsed": false
   },
   "outputs": [
    {
     "name": "stdout",
     "output_type": "stream",
     "text": [
      "0.500245025602\n"
     ]
    }
   ],
   "source": [
    "# The measured intensities\n",
    "I1 = 1.74e7\n",
    "I2 = 1.14e7\n",
    "\n",
    "# The measurement solar zenith angles\n",
    "theta1 = 30. * (np.pi / 180.)\n",
    "theta2 = 60. * (np.pi / 180.)\n",
    "\n",
    "# Calculate the optical depth using the above equation\n",
    "tau = (np.log(I1/I2)) / (1./np.cos(theta2) - 1/np.cos(theta1))\n",
    "\n",
    "print tau"
   ]
  },
  {
   "cell_type": "markdown",
   "metadata": {},
   "source": [
    "**We find the optical thickness to be $\\tau = 0.5$. Now we can solve of the intensity incident at top of atmosphere by solving either of the above equations for $I_0$:  \n",
    "$$ I_0 =  \\frac{I_1}{e^{-\\tau / \\cos(\\theta_1)}}$$**"
   ]
  },
  {
   "cell_type": "code",
   "execution_count": 66,
   "metadata": {
    "collapsed": false
   },
   "outputs": [
    {
     "name": "stdout",
     "output_type": "stream",
     "text": [
      "3.1003602475 e7\n"
     ]
    }
   ],
   "source": [
    "I0 = I1 / (np.exp(-tau / np.cos(theta1)))\n",
    "\n",
    "print I0 / 1e7, \"e7\""
   ]
  },
  {
   "cell_type": "markdown",
   "metadata": {},
   "source": [
    "**We find $I_0 = 3.1 \\times 10^7$ W/m^2/um/sr.**  \n",
    "\n",
    "## Problem 9:  \n",
    ">9) In another galaxy far away, an Earth-sized exoplanet in an Earth-sized orbit has an albedo of 0.3, which is the same as the Earth’s. But this exoplanet exists around a hotter star with a maximum emission per unit wavelength of 0.4 μm instead of 0.502 μm for our Sun. What is the difference in effective temperature for this exoplanet compared to the Earth’s 255 K? (For the sake of this question, we will ignore an astronomical nuance that a hotter star will tend to have greater radius that the Sun and so more luminosity just due to size. In this question, we assume that the star has the same size.). [3 points].\n",
    "\n",
    "**Using Wien's Law: $$ T_{eff} = \\frac{2897 \\text{ $\\mu$m K}}{\\lambda_{max}} $$**"
   ]
  },
  {
   "cell_type": "code",
   "execution_count": 68,
   "metadata": {
    "collapsed": false
   },
   "outputs": [
    {
     "name": "stdout",
     "output_type": "stream",
     "text": [
      "5770.91633466 K\n",
      "7242.5 K\n"
     ]
    }
   ],
   "source": [
    "b = 2897.\n",
    "\n",
    "T_sun = b / 0.502; print T_sun, \"K\"\n",
    "\n",
    "T_star = b / 0.4; print T_star, \"K\""
   ]
  },
  {
   "cell_type": "markdown",
   "metadata": {},
   "source": [
    "**All things being equal, the stellar effective temperature scales linearly with the planetary equilibrium temperature. Therefore, the temperature of the planet will be $$ T_p = 255 \\text{ K} \\left ( \\frac{7242 \\text{ K}}{5770 \\text{ K}}\\right ) \\approx 320 \\text{ K}$$**"
   ]
  },
  {
   "cell_type": "code",
   "execution_count": 71,
   "metadata": {
    "collapsed": false
   },
   "outputs": [
    {
     "name": "stdout",
     "output_type": "stream",
     "text": [
      "320.025 K\n"
     ]
    }
   ],
   "source": [
    "print 255 * (T_star/T_sun), \"K\""
   ]
  },
  {
   "cell_type": "code",
   "execution_count": null,
   "metadata": {
    "collapsed": true
   },
   "outputs": [],
   "source": []
  }
 ],
 "metadata": {
  "anaconda-cloud": {},
  "kernelspec": {
   "display_name": "Python [default]",
   "language": "python",
   "name": "python2"
  },
  "language_info": {
   "codemirror_mode": {
    "name": "ipython",
    "version": 2
   },
   "file_extension": ".py",
   "mimetype": "text/x-python",
   "name": "python",
   "nbconvert_exporter": "python",
   "pygments_lexer": "ipython2",
   "version": "2.7.12"
  }
 },
 "nbformat": 4,
 "nbformat_minor": 1
}
